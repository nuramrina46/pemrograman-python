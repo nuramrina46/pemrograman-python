{
  "nbformat": 4,
  "nbformat_minor": 0,
  "metadata": {
    "colab": {
      "name": "Python_Tugas13.ipynb",
      "provenance": [],
      "authorship_tag": "ABX9TyMpBwsmOQ+/UvDl6PA7Nxm1",
      "include_colab_link": true
    },
    "kernelspec": {
      "name": "python3",
      "display_name": "Python 3"
    }
  },
  "cells": [
    {
      "cell_type": "markdown",
      "metadata": {
        "id": "view-in-github",
        "colab_type": "text"
      },
      "source": [
        "<a href=\"https://colab.research.google.com/github/nuramrina46/pemrograman-python/blob/main/Python_Tugas13.ipynb\" target=\"_parent\"><img src=\"https://colab.research.google.com/assets/colab-badge.svg\" alt=\"Open In Colab\"/></a>"
      ]
    },
    {
      "cell_type": "code",
      "metadata": {
        "id": "zQcoDrnPhuTr"
      },
      "source": [
        "import numpy as np\r\n",
        "import matplotlib.pyplot as plt"
      ],
      "execution_count": 1,
      "outputs": []
    },
    {
      "cell_type": "code",
      "metadata": {
        "id": "HnwUDd8Oh30M"
      },
      "source": [
        "def cos(frek,tipe,ht,hr,d):\r\n",
        "  #frek = frekuensi (MHz)\r\n",
        "  #tipe = urban, suburban, open\r\n",
        "  #ht = tinggi tower (meter)\r\n",
        "  #hr = tinggi user (meter)\r\n",
        "  #d = jarak (meter)\r\n",
        "    if frek in range(150,1501):\r\n",
        "        Ca=69.55\r\n",
        "        Cb=26.16\r\n",
        "    elif frek in range(1501,2001):\r\n",
        "        Ca=46.3\r\n",
        "        Cb=33.9\r\n",
        "    \r\n",
        "    if tipe=='urban' :\r\n",
        "        Cm=0\r\n",
        "    elif tipe=='suburban' :\r\n",
        "        Cm= -2*((np.log10((frek/28)**2))-5.4)\r\n",
        "    elif tipe=='open' :\r\n",
        "        Cm= -4.78*(np.log10(frek))+18.33*(np.log10(frek))-40.94\r\n",
        "    else :\r\n",
        "        Cm='tipe salah'\r\n",
        "    \r\n",
        "    ahr = (1.1*np.log10(frek)-0.7)*hr-(1.56*np.log10(frek)-1.8)\r\n",
        "    Lp = Ca+(Cb*np.log10(frek))-(13.83*np.log(ht))-ahr+((44.9-6.55*np.log10(ht))*np.log10(d))-Cm\r\n",
        "    \r\n",
        "    return Lp"
      ],
      "execution_count": 2,
      "outputs": []
    },
    {
      "cell_type": "code",
      "metadata": {
        "id": "ERTVQhzMh5eO"
      },
      "source": [
        "f=1800 #MHz\r\n",
        "loc='urban'\r\n",
        "tower=80 #m\r\n",
        "user=1.5 #m\r\n",
        "dmin=200 #m\r\n",
        "dmax=700 #m\r\n",
        "N=200 #titik\r\n",
        "a=np.random.randint(dmin,dmax,N)"
      ],
      "execution_count": 3,
      "outputs": []
    },
    {
      "cell_type": "code",
      "metadata": {
        "colab": {
          "base_uri": "https://localhost:8080/"
        },
        "id": "LuDUEX04h82z",
        "outputId": "865b6564-3f2d-4552-bf3a-10e3221606e7"
      },
      "source": [
        "print(a)"
      ],
      "execution_count": 4,
      "outputs": [
        {
          "output_type": "stream",
          "text": [
            "[517 303 505 691 680 337 254 272 694 311 591 415 423 497 612 629 599 657\n",
            " 298 216 216 687 228 517 505 274 376 559 547 537 610 650 219 360 505 686\n",
            " 518 622 382 463 433 538 405 648 255 538 237 388 403 230 596 589 685 299\n",
            " 622 238 251 647 316 552 659 292 564 693 674 292 535 246 653 311 632 344\n",
            " 350 499 550 459 303 350 379 265 552 396 323 202 520 416 650 673 631 489\n",
            " 228 227 272 628 600 216 559 647 505 641 490 581 584 277 370 503 379 586\n",
            " 456 337 677 693 559 313 634 556 692 467 449 514 498 414 484 378 213 492\n",
            " 303 348 212 213 539 651 250 379 588 392 204 669 373 282 485 689 501 684\n",
            " 415 573 672 241 642 583 558 323 464 324 568 409 609 503 258 426 647 207\n",
            " 365 203 548 370 369 611 252 225 486 348 364 538 387 642 334 250 455 381\n",
            " 259 202 695 516 513 454 698 223 450 643 675 639 406 645 606 415 288 467\n",
            " 643 425]\n"
          ],
          "name": "stdout"
        }
      ]
    },
    {
      "cell_type": "code",
      "metadata": {
        "id": "fxIp8GkSiS8w"
      },
      "source": [
        "LpUrban=cos(f,loc,tower,user,a)"
      ],
      "execution_count": 6,
      "outputs": []
    },
    {
      "cell_type": "code",
      "metadata": {
        "colab": {
          "base_uri": "https://localhost:8080/"
        },
        "id": "oQ-emjwmicHH",
        "outputId": "fff34b7d-a3dd-4344-9290-f2f86fcb7b12"
      },
      "source": [
        "print(LpUrban)"
      ],
      "execution_count": 7,
      "outputs": [
        {
          "output_type": "stream",
          "text": [
            "[183.01875116 175.4923326  182.68794368 187.10512569 186.87908348\n",
            " 176.99040572 173.00754089 173.97199457 187.1661492  175.85942145\n",
            " 184.90311142 179.92309826 180.19205607 182.46300896 185.39495023\n",
            " 185.78089869 185.09250907 186.39439323 175.2579472  170.72478356\n",
            " 170.72478356 187.0233476  171.48638728 183.01875116 182.68794368\n",
            " 174.07519091 178.53293625 184.11897926 183.81329845 183.5533974\n",
            " 185.34884139 186.24350631 170.91907957 177.92039464 182.68794368\n",
            " 187.00282867 183.04597095 185.62325729 178.75594203 181.4648163\n",
            " 180.52118874 183.57960436 179.57951445 186.20009722 173.06288963\n",
            " 183.57960436 172.03172909 178.97547226 179.50978046 171.60941197\n",
            " 185.02178304 184.85536142 186.98227982 175.30513732 185.62325729\n",
            " 172.09103965 172.84017768 186.17834241 176.0840871  183.94147257\n",
            " 186.43720858 174.97143758 184.24441408 187.14583739 186.75424156\n",
            " 174.97143758 183.50083675 172.55674281 186.30837014 175.85942145\n",
            " 185.84792294 177.28000084 177.52357297 182.51958027 183.89034279\n",
            " 181.34259222 175.4923326  177.52357297 178.64488045 173.6047348\n",
            " 183.94147257 179.26295647 176.39271811 169.78085477 183.10025324\n",
            " 179.95700017 186.24350631 186.73332658 185.82561694 182.23442403\n",
            " 171.48638728 171.42446965 173.97199457 185.75848621 185.11600572\n",
            " 170.72478356 184.11897926 186.17834241 182.68794368 186.04710322\n",
            " 182.26320082 184.66272611 184.73527342 174.22858158 178.30634309\n",
            " 182.63204584 178.64488045 184.78343154 181.25022312 176.99040572\n",
            " 186.81680082 187.14583739 184.11897926 175.94971816 185.89242926\n",
            " 184.04317869 187.12549625 181.58598899 181.03231012 182.93677476\n",
            " 182.49132302 179.88911456 182.08965155 178.60766448 170.52777003\n",
            " 182.32057865 175.4923326  177.44284933 170.46148173 170.52777003\n",
            " 183.60576266 186.26516079 172.78394512 178.64488045 184.83142558\n",
            " 179.11994775 169.91963656 186.64935472 178.42009529 174.48057824\n",
            " 182.11872533 187.06429599 182.5759253  186.96170094 179.92309826\n",
            " 184.46741986 186.7123805  172.26748753 186.06906151 184.71113247\n",
            " 184.0937577  176.39271811 181.49520734 176.43626138 184.34396388\n",
            " 179.71795525 185.32573025 182.63204584 173.22764283 180.29160587\n",
            " 186.17834241 170.12527872 178.11469065 169.85041658 183.83902675\n",
            " 178.30634309 178.26822064 185.37191467 172.89618665 171.29981187\n",
            " 182.14773921 177.44284933 178.07604525 183.57960436 178.93912065\n",
            " 186.06906151 176.86444747 172.78394512 181.21929832 178.71901871\n",
            " 173.28213511 169.78085477 187.18643176 182.99147866 182.90934294\n",
            " 181.18830549 187.24710481 171.17404105 181.06364771 186.09098562\n",
            " 186.77512553 186.0030837  179.61425242 186.13473173 185.25616844\n",
            " 179.92309826 174.77714157 181.58598899 186.09098562 180.25850071]\n"
          ],
          "name": "stdout"
        }
      ]
    },
    {
      "cell_type": "code",
      "metadata": {
        "id": "gyeEUIYTiegE"
      },
      "source": [
        "a_sort=a[np.argsort(a)]\r\n",
        "Urban_sort=LpUrban[np.argsort(a)]"
      ],
      "execution_count": 8,
      "outputs": []
    },
    {
      "cell_type": "code",
      "metadata": {
        "id": "b9kU3gjMihSs"
      },
      "source": [
        "f=900 #MHz\r\n",
        "loc='urban'\r\n",
        "tower=80 #m\r\n",
        "user=1.5 #m\r\n",
        "dmin=200 #m\r\n",
        "dmax=700 #m\r\n",
        "N=200 #titik\r\n",
        "b=np.random.randint(dmin,dmax,N)"
      ],
      "execution_count": 9,
      "outputs": []
    },
    {
      "cell_type": "code",
      "metadata": {
        "colab": {
          "base_uri": "https://localhost:8080/"
        },
        "id": "izgkhDJninKq",
        "outputId": "c67251df-1abc-4d98-946e-120013e32eb3"
      },
      "source": [
        "print(b)"
      ],
      "execution_count": 10,
      "outputs": [
        {
          "output_type": "stream",
          "text": [
            "[627 678 368 568 337 539 669 318 698 680 383 450 683 588 407 559 420 378\n",
            " 685 247 465 234 513 389 228 530 261 517 370 497 361 571 357 378 286 616\n",
            " 544 218 569 379 265 633 531 523 311 377 630 425 305 379 240 615 660 229\n",
            " 569 600 221 469 551 450 565 344 252 487 268 465 267 585 562 539 406 573\n",
            " 341 656 483 227 252 428 428 295 521 386 279 385 576 567 429 371 553 228\n",
            " 625 328 386 629 304 615 432 638 322 543 221 697 275 415 499 498 288 438\n",
            " 417 693 471 433 556 336 458 487 576 257 318 414 562 469 212 354 356 594\n",
            " 445 691 598 608 486 655 325 472 649 252 510 351 596 273 229 281 254 251\n",
            " 436 545 417 493 683 691 687 259 484 645 469 231 617 259 665 538 521 559\n",
            " 615 579 276 208 495 311 620 236 350 285 511 574 590 425 294 696 672 250\n",
            " 601 282 485 449 604 528 507 622 226 315 375 525 247 527 680 455 280 290\n",
            " 263 480]\n"
          ],
          "name": "stdout"
        }
      ]
    },
    {
      "cell_type": "code",
      "metadata": {
        "id": "m5pYEtR-iqmj"
      },
      "source": [
        "Lpurban1=cos(f,loc,tower,user,b)"
      ],
      "execution_count": 11,
      "outputs": []
    },
    {
      "cell_type": "code",
      "metadata": {
        "colab": {
          "base_uri": "https://localhost:8080/"
        },
        "id": "oC1qA_xQivsr",
        "outputId": "011d9ddd-b864-439f-c772-748a47649d81"
      },
      "source": [
        "print(Lpurban1)"
      ],
      "execution_count": 12,
      "outputs": [
        {
          "output_type": "stream",
          "text": [
            "[175.94237684 177.04393115 168.43633356 174.5503027  167.19674455\n",
            " 173.81210148 176.85569354 166.37929838 177.45344364 177.0854223\n",
            " 168.99910764 171.26998653 177.14743079 175.0377644  169.85524375\n",
            " 174.32531808 170.29813655 168.8140033  177.18861864 162.8202267\n",
            " 171.73187176 162.05862297 173.11568176 169.21806911 161.6927261\n",
            " 173.57490946 163.59683014 173.22508998 168.51268192 172.66934778\n",
            " 168.16580765 174.62450606 168.00885631 168.8140033  164.88531806\n",
            " 175.6930564  173.94216923 161.06095037 174.57508061 168.85121927\n",
            " 163.81107362 176.0765325  173.60146223 173.38762529 166.06576028\n",
            " 168.77668874 176.00961438 170.46483953 165.79134437 168.85121927\n",
            " 162.41525563 175.67017055 176.66490637 161.75437275 174.57508061\n",
            " 175.32234454 161.25347598 171.8525255  174.1222697  171.26998653\n",
            " 174.47570639 167.48633966 163.10252547 172.38303229 163.96964458\n",
            " 171.73187176 163.91698568 174.96571188 174.40071293 173.81210148\n",
            " 169.82059124 174.67375868 167.36295577 176.57927549 172.26685647\n",
            " 161.63080847 163.10252547 170.5639225  170.5639225  165.32175964\n",
            " 173.33365497 169.10901382 164.53626068 169.07247363 174.74731623\n",
            " 174.52548113 170.59679589 168.55070148 174.17330685 161.6927261\n",
            " 175.89737285 166.81543965 169.10901382 175.98723751 165.74508411\n",
            " 175.67017055 170.69495822 176.18736106 166.55537864 173.91625158\n",
            " 161.25347598 177.43324831 164.33284578 170.12943708 172.7259191\n",
            " 172.69766184 164.98348039 170.88925423 170.19715951 177.35217621\n",
            " 171.91246703 170.72752757 174.24951752 167.15488348 171.51820859\n",
            " 172.38303229 174.74731623 163.37927775 166.37929838 170.09545338\n",
            " 174.40071293 171.8525255  160.66782055 167.8899844  167.96934369\n",
            " 175.18077312 171.11259676 177.31146452 175.27531198 175.50891995\n",
            " 172.35407804 176.55778618 166.68600929 171.94234241 176.42815731\n",
            " 163.10252547 173.03306429 167.7701008  175.22812186 164.23002607\n",
            " 161.75437275 164.63687709 163.21387971 163.0465165  170.82478621\n",
            " 173.96803928 170.19715951 172.55551898 177.14743079 177.31146452\n",
            " 177.22968642 163.48847393 172.29599038 176.34107056 171.8525255\n",
            " 161.87686255 175.71590512 163.48847393 176.7712181  173.78594319\n",
            " 173.33365497 174.32531808 175.67017055 174.82049165 164.38397555\n",
            " 160.39950315 172.61254836 166.06576028 175.78422977 162.17850657\n",
            " 167.72991179 164.83597917 173.06065732 174.69832057 175.08559548\n",
            " 170.46483953 165.27392857 177.41302399 176.91871932 162.99028394\n",
            " 175.34580206 164.68691707 172.32506415 171.23864895 175.41594115\n",
            " 173.5216533  172.94995941 175.82959612 161.56861748 166.24577854\n",
            " 168.70176177 173.44138962 162.8202267  173.49494953 177.0854223\n",
            " 171.42563715 164.58665872 165.08096339 163.70435919 172.17909147]\n"
          ],
          "name": "stdout"
        }
      ]
    },
    {
      "cell_type": "code",
      "metadata": {
        "id": "CPbIeK7xiy-o"
      },
      "source": [
        "b_sort=b[np.argsort(b)]\r\n",
        "urban1_sort=Lpurban1[np.argsort(b)]"
      ],
      "execution_count": 13,
      "outputs": []
    },
    {
      "cell_type": "code",
      "metadata": {
        "id": "2lbIvHkCi3Q3"
      },
      "source": [
        "f=700 #MHz\r\n",
        "loc='urban'\r\n",
        "tower=80 #m\r\n",
        "user=1.5 #m\r\n",
        "dmin=200 #m\r\n",
        "dmax=700 #m\r\n",
        "N=200 #titik\r\n",
        "c=np.random.randint(dmin,dmax,N)"
      ],
      "execution_count": 14,
      "outputs": []
    },
    {
      "cell_type": "code",
      "metadata": {
        "colab": {
          "base_uri": "https://localhost:8080/"
        },
        "id": "7hPQ5FDTi8Ns",
        "outputId": "cf236ca0-8720-40db-9caa-56eae6f04191"
      },
      "source": [
        "print(c)"
      ],
      "execution_count": 15,
      "outputs": [
        {
          "output_type": "stream",
          "text": [
            "[366 433 440 580 574 354 683 603 372 274 230 221 586 610 326 654 384 266\n",
            " 505 311 699 441 565 689 361 631 351 666 241 652 282 398 647 532 507 495\n",
            " 467 531 283 280 687 212 649 478 598 577 493 243 510 274 657 617 546 349\n",
            " 517 630 653 263 478 389 385 305 516 661 306 363 646 492 478 396 633 450\n",
            " 610 313 544 371 334 527 362 289 292 249 561 240 360 452 206 527 318 610\n",
            " 334 424 447 669 390 469 681 432 409 252 688 540 532 538 349 342 291 423\n",
            " 531 456 546 666 200 423 678 254 365 524 489 521 586 691 596 311 464 552\n",
            " 550 303 555 621 537 580 508 289 240 227 221 201 458 292 495 414 501 502\n",
            " 432 603 249 315 294 502 613 219 463 529 643 395 206 430 339 221 504 305\n",
            " 529 564 577 490 662 381 306 287 583 274 422 263 482 648 295 426 213 499\n",
            " 388 407 306 427 378 624 474 262 628 219 589 626 488 261 484 516 512 526\n",
            " 422 626]\n"
          ],
          "name": "stdout"
        }
      ]
    },
    {
      "cell_type": "code",
      "metadata": {
        "id": "dHOFT4LEi_yE"
      },
      "source": [
        "Lpurban2=cos(f,loc,tower,user,c)"
      ],
      "execution_count": 16,
      "outputs": []
    },
    {
      "cell_type": "code",
      "metadata": {
        "colab": {
          "base_uri": "https://localhost:8080/"
        },
        "id": "sGT4VOnwjDV2",
        "outputId": "ab836aed-5e05-48ac-841d-9cf046d7cd04"
      },
      "source": [
        "print(Lpurban2)"
      ],
      "execution_count": 17,
      "outputs": [
        {
          "output_type": "stream",
          "text": [
            "[165.51417282 167.88213125 168.10803223 171.99940291 171.85292425\n",
            " 165.04458808 174.30203447 172.54720392 165.74322237 161.43613342\n",
            " 158.97035447 158.40807966 172.14437405 172.7097839  163.8838887\n",
            " 173.69086772 166.19044208 161.01873288 170.04888619 163.22036396\n",
            " 174.62821373 168.14001008 171.63031007 174.4252385  165.32041133\n",
            " 173.18655944 164.92470448 173.94698819 159.62843003 173.64772454\n",
            " 161.84152075 166.69486254 173.53928492 170.78256872 170.10456309\n",
            " 169.76715204 168.94693149 170.75606591 161.89138359 161.74126241\n",
            " 174.3842901  157.82242424 173.58276099 169.27487988 172.42991566\n",
            " 171.92635398 169.71012266 159.74484588 170.18766798 161.43613342\n",
            " 173.75533574 172.87050881 171.14846559 164.84421148 170.37969366\n",
            " 173.16421806 173.66931265 160.85896287 169.27487988 166.37267279\n",
            " 166.22707731 162.94594806 170.35242117 173.84083669 162.9920569\n",
            " 165.39823605 173.51749646 169.68152116 169.27487988 166.62389897\n",
            " 173.23113618 168.42459021 172.7097839  163.31066066 171.09677291\n",
            " 165.70530516 164.22538997 170.64955321 165.35937744 162.1869099\n",
            " 162.33238008 160.08842968 171.53022981 159.56985931 165.28133714\n",
            " 168.487057   157.41800686 170.64955321 163.53390206 172.7097839\n",
            " 164.22538997 167.58626007 168.33036754 174.01029723 166.40883774\n",
            " 169.00712918 174.26072582 167.8495619  167.07889776 160.25712916\n",
            " 174.40477918 170.99281497 170.78256872 170.94054687 164.84421148\n",
            " 164.55880761 162.28405675 167.55299858 170.75606591 168.61116562\n",
            " 171.14846559 173.94698819 157.00163455 167.55299858 174.19853483\n",
            " 160.36848339 165.47563315 170.56913679 169.59536653 170.48825865\n",
            " 172.14437405 174.4660682  172.38272555 163.22036396 168.85614984\n",
            " 171.30241507 171.2512853  162.85327511 171.37876343 172.96153489\n",
            " 170.91433991 171.99940291 170.13231923 162.1869099  159.56985931\n",
            " 158.78541216 158.40807966 157.07189025 168.67281227 162.33238008\n",
            " 169.76715204 167.25005706 169.9368678  169.96495602 167.8495619\n",
            " 172.54720392 160.08842968 163.40038223 162.42853225 169.96495602\n",
            " 172.77889068 158.28002207 168.82575881 170.70291023 173.45192813\n",
            " 166.58828268 157.41800686 167.78419641 164.43469899 158.40807966\n",
            " 170.02096499 162.94594806 170.70291023 171.60535659 171.92635398\n",
            " 169.62414333 173.86213108 166.07996122 162.9920569  162.08908841\n",
            " 172.07207498 161.43613342 167.51965835 160.85896287 169.39226587\n",
            " 173.56103973 162.47636332 167.65254837 157.88871253 169.88052278\n",
            " 166.33641476 167.00984743 162.9920569  167.68557591 165.96860698\n",
            " 173.0294205  169.15650744 160.80530095 173.11942872 158.28002207\n",
            " 172.21630393 173.0744965  169.56653082 160.75143382 169.45059406\n",
            " 170.35242117 170.24280009 170.62279871 167.51965835 173.0744965 ]\n"
          ],
          "name": "stdout"
        }
      ]
    },
    {
      "cell_type": "code",
      "metadata": {
        "id": "ki7LJk-CjH2u"
      },
      "source": [
        "c_sort=c[np.argsort(c)]\r\n",
        "urban2_sort=Lpurban2[np.argsort(c)]"
      ],
      "execution_count": 18,
      "outputs": []
    },
    {
      "cell_type": "code",
      "metadata": {
        "colab": {
          "base_uri": "https://localhost:8080/",
          "height": 295
        },
        "id": "K9iRb4nFjIFK",
        "outputId": "268fe27a-356c-4b18-eee0-4279efd31ba7"
      },
      "source": [
        "plt.figure()\r\n",
        "plt.plot(a_sort,Urban_sort, label='1800 Mhz')\r\n",
        "plt.plot(b_sort,urban1_sort, label='900 Mhz')\r\n",
        "plt.plot(c_sort,urban2_sort, label='700 Mhz')\r\n",
        "plt.legend()\r\n",
        "plt.title('Model Urban (GAMBAR CONTOH)')\r\n",
        "plt.xlabel('Jarak (m)')\r\n",
        "plt.ylabel('Path Loss (dB)')\r\n",
        "plt.show()"
      ],
      "execution_count": 19,
      "outputs": [
        {
          "output_type": "display_data",
          "data": {
            "image/png": "[encoded data removed]",
            "text/plain": [
              "<Figure size 432x288 with 1 Axes>"
            ]
          },
          "metadata": {
            "tags": [],
            "needs_background": "light"
          }
        }
      ]
    },
    {
      "cell_type": "code",
      "metadata": {
        "id": "5GSTvPyJjVYF"
      },
      "source": [
        "f=1800 #MHz\r\n",
        "loc='suburban'\r\n",
        "tower=80 #m\r\n",
        "user=1.5 #m\r\n",
        "dmin=200 #m\r\n",
        "dmax=700 #m\r\n",
        "N=200 #titik\r\n",
        "d=np.random.randint(dmin,dmax,N)"
      ],
      "execution_count": 20,
      "outputs": []
    },
    {
      "cell_type": "code",
      "metadata": {
        "id": "6Ue6kF9YjW51"
      },
      "source": [
        "Lpsuburban=cos(f,loc,tower,user,d)"
      ],
      "execution_count": 21,
      "outputs": []
    },
    {
      "cell_type": "code",
      "metadata": {
        "colab": {
          "base_uri": "https://localhost:8080/"
        },
        "id": "Q1SHKYl_jasb",
        "outputId": "aa1da305-5758-489e-8e05-eb172345103f"
      },
      "source": [
        "print(Lpsuburban)"
      ],
      "execution_count": 22,
      "outputs": [
        {
          "output_type": "stream",
          "text": [
            "[173.21230308 167.73226976 167.35153746 168.87421038 180.92443964\n",
            " 183.31154137 180.1682883  179.77442562 175.22522671 180.19415835\n",
            " 176.18481179 168.6413747  182.99733718 175.48035312 183.57829529\n",
            " 179.7210686  183.67956271 174.46975144 180.92443964 166.48952225\n",
            " 175.51642546 183.49675389 180.19415835 175.11445625 177.8972742\n",
            " 182.41348013 173.46460065 178.46378126 183.51718353 178.81018161\n",
            " 181.78129928 179.88053714 183.33224121 180.57661363 173.42286362\n",
            " 176.01197235 179.09248038 167.15724145 169.7688753  178.75303655\n",
            " 176.28750656 178.34639527 183.39415884 170.45614514 168.22441545\n",
            " 171.83150381 180.06433036 177.46476802 181.43058646 183.43528657\n",
            " 183.69972912 167.60649895 171.59554792 166.28287448 174.92788084\n",
            " 174.27437747 180.21998098 176.28750656 179.34180083 176.88843246\n",
            " 183.43528657 174.62412271 180.6017452  179.88053714 182.01034884\n",
            " 182.19094411 179.8275813  172.33710005 167.09187596 166.35209446\n",
            " 174.35285253 171.59554792 176.82291496 181.43058646 177.8057057\n",
            " 183.55795415 167.02620574 177.30702575 176.8557118  177.21152547\n",
            " 183.65936738 170.09024827 183.35291068 182.56718963 177.01856029\n",
            " 177.95799083 182.34708769 182.63255512 174.35285253 177.40188292\n",
            " 183.35291068 182.99733718 170.66103948 180.67687198 177.55857239\n",
            " 182.03305028 178.66688192 179.8540841  182.74082804 174.155839\n",
            " 172.10953069 175.90724148 180.01206226 171.11143713 177.1153733\n",
            " 179.45120905 179.03647141 179.45120905 180.77642177 169.55047964\n",
            " 178.98023885 174.66245263 172.82517601 168.04186986 178.81018161\n",
            " 174.66245263 183.33224121 181.04661072 177.92766523 174.62412271\n",
            " 178.10864722 179.12040158 179.90694059 183.61888966 174.54714854\n",
            " 181.68862633 182.58901184 179.77442562 174.73880099 183.18669946\n",
            " 178.1385861  179.55977404 171.25842529 179.88053714 181.87336652\n",
            " 172.24651301 168.22441545 178.75303655 166.48952225 182.80539456\n",
            " 179.66750869 169.7688753  176.08136282 167.79473655 182.86966647\n",
            " 179.64065218 169.7688753  178.60915136 177.83629472 179.90694059\n",
            " 179.90694059 181.78129928 176.65777546 168.46418699 167.79473655\n",
            " 180.80119968 183.45580549 171.01258593 183.20758343 178.92378091\n",
            " 168.81636127 170.55896485 177.21152547 172.99854727 176.04671031\n",
            " 182.76238311 182.50151941 174.46975144 171.50004764 182.19094411\n",
            " 179.66750869 182.6759642  175.33513289 175.51642546 182.41348013\n",
            " 179.58678505 176.45701809 172.78149772 179.03647141 176.62451397\n",
            " 179.61374436 176.38945806 175.15147661 168.10298162 176.21912664\n",
            " 183.20758343 169.32864454 171.20959946 177.21152547 183.18669946\n",
            " 181.87336652 181.66536252 174.46975144 178.52210945 182.97613892\n",
            " 180.92443964 174.11610347 175.11445625 176.55775442 180.99786937]\n"
          ],
          "name": "stdout"
        }
      ]
    },
    {
      "cell_type": "code",
      "metadata": {
        "id": "jkLTtAPQjd-I"
      },
      "source": [
        "d_sort=d[np.argsort(d)]\r\n",
        "suburban_sort1=Lpsuburban[np.argsort(d)]"
      ],
      "execution_count": 23,
      "outputs": []
    },
    {
      "cell_type": "code",
      "metadata": {
        "id": "GK6-ZRlBjhvC"
      },
      "source": [
        "f=1800 #MHz\r\n",
        "loc='urban'\r\n",
        "tower=80 #m\r\n",
        "user=1.5 #m\r\n",
        "dmin=200 #m\r\n",
        "dmax=700 #m\r\n",
        "N=200 #titik\r\n",
        "e=np.random.randint(dmin,dmax,N)"
      ],
      "execution_count": 24,
      "outputs": []
    },
    {
      "cell_type": "code",
      "metadata": {
        "colab": {
          "base_uri": "https://localhost:8080/"
        },
        "id": "e4CowWt6jkrm",
        "outputId": "fba59683-3813-40e3-929b-cd02509487da"
      },
      "source": [
        "print(e)"
      ],
      "execution_count": 25,
      "outputs": [
        {
          "output_type": "stream",
          "text": [
            "[366 363 526 214 511 627 240 666 666 559 331 657 563 365 240 457 507 443\n",
            " 255 311 241 456 295 320 212 427 208 611 222 547 316 342 677 238 408 288\n",
            " 355 250 656 245 479 246 379 499 493 644 459 277 330 306 423 358 538 368\n",
            " 572 507 442 541 219 245 340 659 610 688 624 523 219 386 342 365 391 527\n",
            " 220 559 671 510 522 649 478 524 248 276 213 394 459 425 687 536 253 354\n",
            " 564 446 439 468 283 659 563 216 480 213 663 226 613 293 565 694 656 549\n",
            " 637 693 431 590 690 563 589 488 566 567 265 289 541 564 360 644 610 611\n",
            " 544 228 609 504 541 325 308 439 524 348 462 649 380 295 224 695 596 499\n",
            " 387 283 386 331 623 342 434 261 652 520 577 350 393 378 388 450 405 357\n",
            " 334 358 218 215 232 468 260 285 412 642 595 365 268 242 674 454 311 631\n",
            " 401 357 393 676 559 558 248 605 665 376 472 552 566 408 262 467 407 465\n",
            " 386 353]\n"
          ],
          "name": "stdout"
        }
      ]
    },
    {
      "cell_type": "code",
      "metadata": {
        "id": "heWov_NRjmyg"
      },
      "source": [
        "LpUrban3=cos(f,loc,tower,user,e)"
      ],
      "execution_count": 26,
      "outputs": []
    },
    {
      "cell_type": "code",
      "metadata": {
        "colab": {
          "base_uri": "https://localhost:8080/"
        },
        "id": "hEbg3057jpV1",
        "outputId": "2b512eaf-0e5d-4c42-c2e9-3e6e676b0a69"
      },
      "source": [
        "print(LpUrban3)"
      ],
      "execution_count": 27,
      "outputs": [
        {
          "output_type": "stream",
          "text": [
            "[178.15323031 178.03729354 183.26185621 170.59374784 182.8543185\n",
            " 185.73603802 172.20891681 186.58604568 186.58604568 184.11897926\n",
            " 176.73735273 186.39439323 184.21941631 178.11469065 172.20891681\n",
            " 181.28108017 182.74362058 180.84280631 173.06288963 175.85942145\n",
            " 172.26748753 181.25022312 175.11542082 176.26127482 170.46148173\n",
            " 180.3246334  170.19316433 185.37191467 171.11073201 183.81329845\n",
            " 176.0840871  177.19786511 186.81680082 172.09103965 179.6834724\n",
            " 174.77714157 177.72338111 172.78394512 186.37293666 172.49936498\n",
            " 181.94337571 172.55674281 178.64488045 182.51958027 182.34918016\n",
            " 186.11287566 181.34259222 174.22858158 176.69473171 175.63111439\n",
            " 180.19205607 177.84191957 183.57960436 178.22999474 184.44281507\n",
            " 182.74362058 180.81097299 183.65793397 170.91907957 172.49936498\n",
            " 177.11524764 186.43720858 185.34884139 187.04383667 185.668478\n",
            " 183.18128647 170.91907957 178.902675   177.19786511 178.11469065\n",
            " 179.08396756 183.2886107  170.98325388 184.11897926 186.69140322\n",
            " 182.82672547 183.15432715 186.22181849 181.91393737 183.20819429\n",
            " 172.67080204 174.17763673 170.52777003 179.19163359 181.34259222\n",
            " 180.25850071 187.0233476  183.52714159 172.9519738  177.68364557\n",
            " 184.24441408 180.93787689 180.71503911 181.61611999 174.53044108\n",
            " 186.43720858 184.21941631 170.72478356 181.97275265 170.52777003\n",
            " 186.52245082 171.36227866 185.41794817 175.0195957  184.26936756\n",
            " 187.1661492  186.37293666 183.86470814 185.95892618 187.14583739\n",
            " 180.45597456 184.87925665 187.08472564 184.21941631 184.85536142\n",
            " 182.20558832 184.29427692 184.31914231 173.6047348  174.82596739\n",
            " 183.65793397 184.24441408 177.92039464 186.11287566 185.34884139\n",
            " 185.37191467 183.73583041 171.48638728 185.32573025 182.66002249\n",
            " 183.65793397 176.47967047 175.72288173 180.71503911 183.20819429\n",
            " 177.44284933 181.43435956 186.22181849 178.68199836 175.11542082\n",
            " 171.23706683 187.18643176 185.02178304 182.51958027 178.93912065\n",
            " 174.53044108 178.902675   176.73735273 185.64588579 177.19786511\n",
            " 180.55368296 173.39049132 186.28678204 183.10025324 184.56541147\n",
            " 177.52357297 179.15583628 178.60766448 178.97547226 181.06364771\n",
            " 179.57951445 177.80251748 176.86444747 177.84191957 170.85461155\n",
            " 170.65941807 171.7313715  181.61611999 173.3364174  174.62964035\n",
            " 179.8209002  186.06906151 184.99812856 178.11469065 173.76330575\n",
            " 172.32581571 186.75424156 181.18830549 175.85942145 185.82561694\n",
            " 179.43969953 177.80251748 179.15583628 186.79597859 184.11897926\n",
            " 184.0937577  172.67080204 185.23290462 186.56487928 178.53293625\n",
            " 181.73600358 183.94147257 184.29427692 179.6834724  173.44435845\n",
            " 181.58598899 179.64890493 181.52553294 178.902675   177.64379763]\n"
          ],
          "name": "stdout"
        }
      ]
    },
    {
      "cell_type": "code",
      "metadata": {
        "id": "Gxr2FFOvjrnI"
      },
      "source": [
        "e_sort=e[np.argsort(e)]\r\n",
        "Urban3_sort2=LpUrban3[np.argsort(e)]"
      ],
      "execution_count": 28,
      "outputs": []
    },
    {
      "cell_type": "code",
      "metadata": {
        "id": "KU0xsjL8juU4"
      },
      "source": [
        "f=1800 #MHz\r\n",
        "loc='open'\r\n",
        "tower=80 #m\r\n",
        "user=1.5 #m\r\n",
        "dmin=200 #m\r\n",
        "dmax=700 #m\r\n",
        "N=200 #titik\r\n",
        "m=np.random.randint(dmin,dmax,N)"
      ],
      "execution_count": 29,
      "outputs": []
    },
    {
      "cell_type": "code",
      "metadata": {
        "colab": {
          "base_uri": "https://localhost:8080/"
        },
        "id": "Q07AoIPWjx42",
        "outputId": "1ec69eca-674a-41fb-8fda-a3c8bebbfe88"
      },
      "source": [
        "print(m)"
      ],
      "execution_count": 30,
      "outputs": [
        {
          "output_type": "stream",
          "text": [
            "[653 535 264 569 679 292 358 643 377 667 504 456 356 332 624 321 370 305\n",
            " 694 340 271 261 478 214 324 274 326 300 240 562 677 588 572 343 522 505\n",
            " 229 228 413 527 551 598 226 541 443 417 280 683 384 440 657 307 343 642\n",
            " 516 428 576 521 593 491 420 546 288 267 684 223 634 534 379 314 286 523\n",
            " 535 475 231 263 628 509 622 390 281 274 654 642 255 395 376 519 243 212\n",
            " 232 294 217 387 323 444 254 490 546 281 206 532 570 326 219 380 683 509\n",
            " 248 483 534 220 273 504 589 418 683 336 551 453 627 693 450 439 551 631\n",
            " 255 337 472 283 247 352 596 408 236 587 556 312 673 476 690 495 590 607\n",
            " 366 223 617 438 248 445 535 201 279 347 502 297 419 429 234 556 399 494\n",
            " 437 574 612 214 261 489 343 330 583 226 200 618 351 528 258 566 498 484\n",
            " 642 252 421 228 665 515 449 522 409 624 345 235 685 315 264 582 639 419\n",
            " 428 630]\n"
          ],
          "name": "stdout"
        }
      ]
    },
    {
      "cell_type": "code",
      "metadata": {
        "id": "QIW29ntWj0f3"
      },
      "source": [
        "Lpopen=cos(f,loc,tower,user,m)"
      ],
      "execution_count": 31,
      "outputs": []
    },
    {
      "cell_type": "code",
      "metadata": {
        "colab": {
          "base_uri": "https://localhost:8080/"
        },
        "id": "HHlaW95Mj5bw",
        "outputId": "8b2ec925-d8de-4d0f-ee5a-ff61124a4c7c"
      },
      "source": [
        "print(Lpopen)"
      ],
      "execution_count": 32,
      "outputs": [
        {
          "output_type": "stream",
          "text": [
            "[183.1394277  180.33189431 170.3825362  181.19979934 183.68941073\n",
            " 171.80249513 174.67297713 182.92204318 175.40140748 183.43823788\n",
            " 179.49108004 178.08128067 174.59406243 173.61090274 182.49953555\n",
            " 173.13628323 175.13740065 172.41606311 183.99720676 173.9463052\n",
            " 170.75116906 170.22154887 178.74499493 167.4248054  173.26731894\n",
            " 170.90624847 173.35400375 172.18322743 169.03997436 181.02543166\n",
            " 183.64785838 181.66248314 181.27387263 174.07005039 179.98538471\n",
            " 179.51900124 168.37909149 168.31744483 176.68610622 180.11966826\n",
            " 180.74698843 181.90003072 168.19333621 180.48899152 177.67386387\n",
            " 176.82187824 171.21137746 183.77214952 175.66055713 177.57814728\n",
            " 183.22545079 172.50813035 174.07005039 182.90011907 179.82253622\n",
            " 177.18864124 181.37203496 179.9583737  181.78175766 179.12297651\n",
            " 176.92285529 180.61858064 171.60819912 170.54170442 183.7927585\n",
            " 168.00509861 182.72348681 180.30554025 175.47593801 172.82570793\n",
            " 171.51003679 180.01234402 180.33189431 178.65630898 168.50158128\n",
            " 170.32907792 182.58954377 179.63013584 182.45431485 175.87895279\n",
            " 171.26159583 170.90624847 183.16098277 182.90011907 169.89394719\n",
            " 176.05839773 175.36399381 179.9041958  169.21496093 167.29253929\n",
            " 168.56242905 171.8986473  167.62090468 175.77017821 173.22377567\n",
            " 177.70562541 169.83859844 179.09425838 180.61858064 171.26159583\n",
            " 166.88812191 180.25268377 181.22453374 173.35400375 167.75013712\n",
            " 175.51305591 183.77214952 179.63013584 169.5018596  178.89157521\n",
            " 180.30554025 167.81431144 170.8547448  179.49108004 181.68641898\n",
            " 176.85561775 183.77214952 173.77960221 180.74698843 177.98830187\n",
            " 182.56709558 183.97689495 177.89470526 177.54609666 180.74698843\n",
            " 182.65667449 169.89394719 173.82146328 178.56706114 171.36149864\n",
            " 169.44494543 174.43489421 181.8528406  176.51452995 168.8032253\n",
            " 181.63850656 180.87423625 172.73569972 183.56438414 178.68593305\n",
            " 183.91578319 179.23726709 181.71031421 182.11045145 174.98428787\n",
            " 168.00509861 182.34062386 177.51397296 169.5018596  177.7373155\n",
            " 180.33189431 166.5420053  171.16097942 174.23337092 179.43507107\n",
            " 172.04165601 176.88927663 177.22151462 168.68334171 180.87423625\n",
            " 176.20032576 179.20878127 177.48177583 181.3230393  182.22600778\n",
            " 167.4248054  170.22154887 179.06548158 174.07005039 173.52578927\n",
            " 181.54219003 168.19333621 166.4717496  182.36343558 174.39481953\n",
            " 180.14637203 170.05870038 181.12533448 179.32238057 178.92070911\n",
            " 182.90011907 169.72724421 176.95635408 168.31744483 183.39593684\n",
            " 179.79521082 177.86336768 179.98538471 176.54901281 182.49953555\n",
            " 174.15194735 168.74341104 183.81333738 172.87049728 170.3825362\n",
            " 181.51800764 182.83414125 176.88927663 177.18864124 182.63433311]\n"
          ],
          "name": "stdout"
        }
      ]
    },
    {
      "cell_type": "code",
      "metadata": {
        "id": "3DH8QLaRj8ah"
      },
      "source": [
        "m_sort=m[np.argsort(m)]\r\n",
        "open_sort3=Lpopen[np.argsort(m)]"
      ],
      "execution_count": 33,
      "outputs": []
    },
    {
      "cell_type": "code",
      "metadata": {
        "colab": {
          "base_uri": "https://localhost:8080/",
          "height": 295
        },
        "id": "4DespFhcj_IA",
        "outputId": "93338029-ad54-4719-9836-ac9ba1ce1e13"
      },
      "source": [
        "plt.figure()\r\n",
        "plt.plot(d_sort,suburban_sort1,label='suburban')\r\n",
        "plt.plot(e_sort,Urban3_sort2,label='Urban')\r\n",
        "plt.plot(m_sort,open_sort3,label='open')\r\n",
        "plt.legend()\r\n",
        "plt.title('Frekuensi 1800 Mhz (GAMBAR CONTOH)')\r\n",
        "plt.xlabel('Jarak (m)')\r\n",
        "plt.ylabel('Path Loss (dB)')\r\n",
        "plt.show()"
      ],
      "execution_count": 34,
      "outputs": [
        {
          "output_type": "display_data",
          "data": {
            "image/png": "[encoded data removed]",
            "text/plain": [
              "<Figure size 432x288 with 1 Axes>"
            ]
          },
          "metadata": {
            "tags": [],
            "needs_background": "light"
          }
        }
      ]
    }
  ]
}